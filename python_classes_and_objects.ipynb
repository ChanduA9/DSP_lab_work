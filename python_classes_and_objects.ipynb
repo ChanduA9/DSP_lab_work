{
  "nbformat": 4,
  "nbformat_minor": 0,
  "metadata": {
    "colab": {
      "provenance": []
    },
    "kernelspec": {
      "name": "python3",
      "display_name": "Python 3"
    },
    "language_info": {
      "name": "python"
    }
  },
  "cells": [
    {
      "cell_type": "code",
      "source": [
        "from google.colab import drive\n",
        "#drive.mount(\"/content/gdrive/\", force_remount=True)\n",
        "drive.mount('/content/gdrive/')"
      ],
      "metadata": {
        "colab": {
          "base_uri": "https://localhost:8080/"
        },
        "id": "bXYNc1wbqh9L",
        "outputId": "b9ca7599-7787-414c-923a-b4c89f9d9bc3"
      },
      "execution_count": null,
      "outputs": [
        {
          "output_type": "stream",
          "name": "stdout",
          "text": [
            "Mounted at /content/gdrive/\n"
          ]
        }
      ]
    },
    {
      "cell_type": "code",
      "source": [
        "import os\n",
        "root_path = 'gdrive/My Drive/DSP/data&Code'\n",
        "print(os.getcwd())\n",
        "os.chdir(root_path)\n",
        "!ls"
      ],
      "metadata": {
        "colab": {
          "base_uri": "https://localhost:8080/"
        },
        "id": "Zr5MNLafqnAS",
        "outputId": "55369498-cb71-4797-8dfe-49191c804222"
      },
      "execution_count": null,
      "outputs": [
        {
          "output_type": "stream",
          "name": "stdout",
          "text": [
            "/content\n",
            "basic.ipynb\t\t     covidData.ipynb\n",
            "covid_19_clean_complete.csv  laptopDepreciationCost.csv\n"
          ]
        }
      ]
    },
    {
      "cell_type": "markdown",
      "source": [
        "# class & Object"
      ],
      "metadata": {
        "id": "UUbBab0RSYCL"
      }
    },
    {
      "cell_type": "code",
      "source": [
        "class emp:\n",
        "\n",
        "  def __init__(self,a):\n",
        "    self.k=a\n",
        "  def disp(self):\n",
        "    print(self.k)\n",
        "\n",
        "p=emp(15)\n",
        "p.disp()"
      ],
      "metadata": {
        "colab": {
          "base_uri": "https://localhost:8080/"
        },
        "id": "1u7jHy5iSWjh",
        "outputId": "d0454809-7866-495b-9b79-73906cd766e5"
      },
      "execution_count": null,
      "outputs": [
        {
          "output_type": "stream",
          "name": "stdout",
          "text": [
            "15\n"
          ]
        }
      ]
    },
    {
      "cell_type": "markdown",
      "source": [
        "# Built-in function"
      ],
      "metadata": {
        "id": "wqlQcYw4T8_y"
      }
    },
    {
      "cell_type": "code",
      "source": [
        "class Student:\n",
        "  def __init__(self, name, id, age):\n",
        "    self.name=name\n",
        "    self.id=id\n",
        "    self.age=age\n",
        "\n",
        "# creates the object of the class Student\n",
        "s= Student(\"Shannu\", 101,22)\n",
        "# prints the attribute name of the object s\n",
        "print(getattr(s, 'name'))\n",
        "# reset the value of attribute age to 23\n",
        "setattr(s,\"age\", 23)\n",
        "# prints the modified value of age\n",
        "print(getattr(s, 'age'))\n",
        "# prints true if the student contains the attribute with name id\n",
        "print(hasattr(s, 'id'))\n",
        "# deletes the attribute age\n",
        "delattr(s, 'age')\n",
        "# this will give an error since the attribute age has been deleted\n",
        "#print(s.age)\n"
      ],
      "metadata": {
        "colab": {
          "base_uri": "https://localhost:8080/"
        },
        "id": "EIMZUIiAT_mM",
        "outputId": "deeac9a7-b51a-4a66-f072-04d36a1362e2"
      },
      "execution_count": null,
      "outputs": [
        {
          "output_type": "stream",
          "name": "stdout",
          "text": [
            "Shannu\n",
            "23\n",
            "True\n"
          ]
        }
      ]
    },
    {
      "cell_type": "markdown",
      "source": [
        "# built-in attributes"
      ],
      "metadata": {
        "id": "PmKvw8joVsKd"
      }
    },
    {
      "cell_type": "code",
      "source": [
        "class Student:\n",
        "\n",
        "  \"\"\"This is docstring of test module\"\"\"\n",
        "  def __init__(self,name,id,age):\n",
        "    self.name= name\n",
        "    self.id = id\n",
        "    self.age= age\n",
        "    self.__module__=\"kks\"\n",
        "    print(\"Name:%s, ID:%d\"%(self.name,self.id))\n",
        "\n",
        "    def display (self):\n",
        "      print(\"Name:%s, ID:%d, age:%d\"%(self.name,self.id))\n",
        "\n",
        "s = Student(\"John\",101,22)\n",
        "print()\n",
        "print(s.__doc__)\n",
        "print(s.__dict__)\n",
        "print(s.__module__)\n"
      ],
      "metadata": {
        "colab": {
          "base_uri": "https://localhost:8080/"
        },
        "id": "q1n4k8LBVvSx",
        "outputId": "b04bcce9-d581-43b7-9264-33e57e07111d"
      },
      "execution_count": null,
      "outputs": [
        {
          "output_type": "stream",
          "name": "stdout",
          "text": [
            "Name:John, ID:101\n",
            "\n",
            "This is docstring of test module\n",
            "{'name': 'John', 'id': 101, 'age': 22, '__module__': 'kks'}\n",
            "kks\n"
          ]
        }
      ]
    },
    {
      "cell_type": "markdown",
      "source": [
        "# Inheritance"
      ],
      "metadata": {
        "id": "izDVE3IVbHIS"
      }
    },
    {
      "cell_type": "code",
      "source": [
        "class Animal: #Base class\n",
        "   def speak(self):\n",
        "     print(\"Animal Speaking\")\n",
        "\n",
        "#The child class Dog inherits the base class Animal\n",
        "class Dog( Animal ):\n",
        "  def bark(self):\n",
        "    print(\"dog barking\")\n",
        "\n",
        "#The child class Dogchild inherits another child class Dog\n",
        "class DogChild(Dog):\n",
        "  def eat(self):\n",
        "    print(\"Eating bread...\")\n",
        "\n",
        "d= DogChild()\n",
        "d.bark()\n",
        "d.speak()\n",
        "d.eat()"
      ],
      "metadata": {
        "colab": {
          "base_uri": "https://localhost:8080/"
        },
        "id": "32ajAN1CbJBU",
        "outputId": "2a15cfc9-aed6-41c3-f2d3-8267be225958"
      },
      "execution_count": null,
      "outputs": [
        {
          "output_type": "stream",
          "name": "stdout",
          "text": [
            "dog barking\n",
            "Animal Speaking\n",
            "Eating bread...\n"
          ]
        }
      ]
    },
    {
      "cell_type": "markdown",
      "source": [
        "# Read data from files"
      ],
      "metadata": {
        "id": "EGSeJz91Tl1i"
      }
    },
    {
      "cell_type": "code",
      "execution_count": null,
      "metadata": {
        "id": "tm-tGVGEsqlY"
      },
      "outputs": [],
      "source": [
        "\n",
        "path = 'laptopDepreciationCost.csv'\n",
        "\n",
        "import pandas as pd\n",
        "import numpy as np\n",
        "import matplotlib.pyplot as plt\n"
      ]
    },
    {
      "cell_type": "code",
      "source": [
        "df = pd.read_csv(path)\n",
        "df.info()\n",
        "df.describe()"
      ],
      "metadata": {
        "colab": {
          "base_uri": "https://localhost:8080/",
          "height": 515
        },
        "id": "lWdcME50s7dt",
        "outputId": "8e77188d-3e75-45ac-d134-a5ca54e8b86c"
      },
      "execution_count": null,
      "outputs": [
        {
          "output_type": "stream",
          "name": "stdout",
          "text": [
            "<class 'pandas.core.frame.DataFrame'>\n",
            "RangeIndex: 6 entries, 0 to 5\n",
            "Data columns (total 5 columns):\n",
            " #   Column               Non-Null Count  Dtype  \n",
            "---  ------               --------------  -----  \n",
            " 0   Year                 6 non-null      int64  \n",
            " 1   PurchasePrice        6 non-null      int64  \n",
            " 2   DepreciationRate(%)  6 non-null      int64  \n",
            " 3   Fine(%)              5 non-null      float64\n",
            " 4   finalCost            6 non-null      int64  \n",
            "dtypes: float64(1), int64(4)\n",
            "memory usage: 368.0 bytes\n"
          ]
        },
        {
          "output_type": "execute_result",
          "data": {
            "text/plain": [
              "           Year  PurchasePrice  DepreciationRate(%)    Fine(%)     finalCost\n",
              "count  6.000000            6.0              6.00000   5.000000      6.000000\n",
              "mean   3.500000        30000.0             52.50000  14.000000  18000.000000\n",
              "std    1.870829            0.0             28.06243  10.839742  11304.866209\n",
              "min    1.000000        30000.0             15.00000   5.000000   4500.000000\n",
              "25%    2.250000        30000.0             33.75000   5.000000  10125.000000\n",
              "50%    3.500000        30000.0             52.50000  10.000000  16500.000000\n",
              "75%    4.750000        30000.0             71.25000  20.000000  25125.000000\n",
              "max    6.000000        30000.0             90.00000  30.000000  34500.000000"
            ],
            "text/html": [
              "\n",
              "  <div id=\"df-e0455279-02a3-4dcc-aa84-1ccc5d67c8ce\">\n",
              "    <div class=\"colab-df-container\">\n",
              "      <div>\n",
              "<style scoped>\n",
              "    .dataframe tbody tr th:only-of-type {\n",
              "        vertical-align: middle;\n",
              "    }\n",
              "\n",
              "    .dataframe tbody tr th {\n",
              "        vertical-align: top;\n",
              "    }\n",
              "\n",
              "    .dataframe thead th {\n",
              "        text-align: right;\n",
              "    }\n",
              "</style>\n",
              "<table border=\"1\" class=\"dataframe\">\n",
              "  <thead>\n",
              "    <tr style=\"text-align: right;\">\n",
              "      <th></th>\n",
              "      <th>Year</th>\n",
              "      <th>PurchasePrice</th>\n",
              "      <th>DepreciationRate(%)</th>\n",
              "      <th>Fine(%)</th>\n",
              "      <th>finalCost</th>\n",
              "    </tr>\n",
              "  </thead>\n",
              "  <tbody>\n",
              "    <tr>\n",
              "      <th>count</th>\n",
              "      <td>6.000000</td>\n",
              "      <td>6.0</td>\n",
              "      <td>6.00000</td>\n",
              "      <td>5.000000</td>\n",
              "      <td>6.000000</td>\n",
              "    </tr>\n",
              "    <tr>\n",
              "      <th>mean</th>\n",
              "      <td>3.500000</td>\n",
              "      <td>30000.0</td>\n",
              "      <td>52.50000</td>\n",
              "      <td>14.000000</td>\n",
              "      <td>18000.000000</td>\n",
              "    </tr>\n",
              "    <tr>\n",
              "      <th>std</th>\n",
              "      <td>1.870829</td>\n",
              "      <td>0.0</td>\n",
              "      <td>28.06243</td>\n",
              "      <td>10.839742</td>\n",
              "      <td>11304.866209</td>\n",
              "    </tr>\n",
              "    <tr>\n",
              "      <th>min</th>\n",
              "      <td>1.000000</td>\n",
              "      <td>30000.0</td>\n",
              "      <td>15.00000</td>\n",
              "      <td>5.000000</td>\n",
              "      <td>4500.000000</td>\n",
              "    </tr>\n",
              "    <tr>\n",
              "      <th>25%</th>\n",
              "      <td>2.250000</td>\n",
              "      <td>30000.0</td>\n",
              "      <td>33.75000</td>\n",
              "      <td>5.000000</td>\n",
              "      <td>10125.000000</td>\n",
              "    </tr>\n",
              "    <tr>\n",
              "      <th>50%</th>\n",
              "      <td>3.500000</td>\n",
              "      <td>30000.0</td>\n",
              "      <td>52.50000</td>\n",
              "      <td>10.000000</td>\n",
              "      <td>16500.000000</td>\n",
              "    </tr>\n",
              "    <tr>\n",
              "      <th>75%</th>\n",
              "      <td>4.750000</td>\n",
              "      <td>30000.0</td>\n",
              "      <td>71.25000</td>\n",
              "      <td>20.000000</td>\n",
              "      <td>25125.000000</td>\n",
              "    </tr>\n",
              "    <tr>\n",
              "      <th>max</th>\n",
              "      <td>6.000000</td>\n",
              "      <td>30000.0</td>\n",
              "      <td>90.00000</td>\n",
              "      <td>30.000000</td>\n",
              "      <td>34500.000000</td>\n",
              "    </tr>\n",
              "  </tbody>\n",
              "</table>\n",
              "</div>\n",
              "      <button class=\"colab-df-convert\" onclick=\"convertToInteractive('df-e0455279-02a3-4dcc-aa84-1ccc5d67c8ce')\"\n",
              "              title=\"Convert this dataframe to an interactive table.\"\n",
              "              style=\"display:none;\">\n",
              "        \n",
              "  <svg xmlns=\"http://www.w3.org/2000/svg\" height=\"24px\"viewBox=\"0 0 24 24\"\n",
              "       width=\"24px\">\n",
              "    <path d=\"M0 0h24v24H0V0z\" fill=\"none\"/>\n",
              "    <path d=\"M18.56 5.44l.94 2.06.94-2.06 2.06-.94-2.06-.94-.94-2.06-.94 2.06-2.06.94zm-11 1L8.5 8.5l.94-2.06 2.06-.94-2.06-.94L8.5 2.5l-.94 2.06-2.06.94zm10 10l.94 2.06.94-2.06 2.06-.94-2.06-.94-.94-2.06-.94 2.06-2.06.94z\"/><path d=\"M17.41 7.96l-1.37-1.37c-.4-.4-.92-.59-1.43-.59-.52 0-1.04.2-1.43.59L10.3 9.45l-7.72 7.72c-.78.78-.78 2.05 0 2.83L4 21.41c.39.39.9.59 1.41.59.51 0 1.02-.2 1.41-.59l7.78-7.78 2.81-2.81c.8-.78.8-2.07 0-2.86zM5.41 20L4 18.59l7.72-7.72 1.47 1.35L5.41 20z\"/>\n",
              "  </svg>\n",
              "      </button>\n",
              "      \n",
              "  <style>\n",
              "    .colab-df-container {\n",
              "      display:flex;\n",
              "      flex-wrap:wrap;\n",
              "      gap: 12px;\n",
              "    }\n",
              "\n",
              "    .colab-df-convert {\n",
              "      background-color: #E8F0FE;\n",
              "      border: none;\n",
              "      border-radius: 50%;\n",
              "      cursor: pointer;\n",
              "      display: none;\n",
              "      fill: #1967D2;\n",
              "      height: 32px;\n",
              "      padding: 0 0 0 0;\n",
              "      width: 32px;\n",
              "    }\n",
              "\n",
              "    .colab-df-convert:hover {\n",
              "      background-color: #E2EBFA;\n",
              "      box-shadow: 0px 1px 2px rgba(60, 64, 67, 0.3), 0px 1px 3px 1px rgba(60, 64, 67, 0.15);\n",
              "      fill: #174EA6;\n",
              "    }\n",
              "\n",
              "    [theme=dark] .colab-df-convert {\n",
              "      background-color: #3B4455;\n",
              "      fill: #D2E3FC;\n",
              "    }\n",
              "\n",
              "    [theme=dark] .colab-df-convert:hover {\n",
              "      background-color: #434B5C;\n",
              "      box-shadow: 0px 1px 3px 1px rgba(0, 0, 0, 0.15);\n",
              "      filter: drop-shadow(0px 1px 2px rgba(0, 0, 0, 0.3));\n",
              "      fill: #FFFFFF;\n",
              "    }\n",
              "  </style>\n",
              "\n",
              "      <script>\n",
              "        const buttonEl =\n",
              "          document.querySelector('#df-e0455279-02a3-4dcc-aa84-1ccc5d67c8ce button.colab-df-convert');\n",
              "        buttonEl.style.display =\n",
              "          google.colab.kernel.accessAllowed ? 'block' : 'none';\n",
              "\n",
              "        async function convertToInteractive(key) {\n",
              "          const element = document.querySelector('#df-e0455279-02a3-4dcc-aa84-1ccc5d67c8ce');\n",
              "          const dataTable =\n",
              "            await google.colab.kernel.invokeFunction('convertToInteractive',\n",
              "                                                     [key], {});\n",
              "          if (!dataTable) return;\n",
              "\n",
              "          const docLinkHtml = 'Like what you see? Visit the ' +\n",
              "            '<a target=\"_blank\" href=https://colab.research.google.com/notebooks/data_table.ipynb>data table notebook</a>'\n",
              "            + ' to learn more about interactive tables.';\n",
              "          element.innerHTML = '';\n",
              "          dataTable['output_type'] = 'display_data';\n",
              "          await google.colab.output.renderOutput(dataTable, element);\n",
              "          const docLink = document.createElement('div');\n",
              "          docLink.innerHTML = docLinkHtml;\n",
              "          element.appendChild(docLink);\n",
              "        }\n",
              "      </script>\n",
              "    </div>\n",
              "  </div>\n",
              "  "
            ]
          },
          "metadata": {},
          "execution_count": 26
        }
      ]
    },
    {
      "cell_type": "code",
      "source": [
        "#1. Chnge datatypes\n",
        "#df['PurchasePrice'] = df['PurchasePrice'].astype(np.float64)\n",
        "#df.info()\n",
        "#2. rename column\n",
        "#df.rename(columns={\"PurchasePrice\":\"Purchase_Price\"},inplace=True)\n",
        "#df.head()\n",
        "#3. Comuns names\n",
        "#df.columns\n",
        "#4 Add new columns\n",
        "#dCost = df['Purchase_Price'] - df['finalCost']\n",
        "#df['dCost'] = dCost\n",
        "#df.head()"
      ],
      "metadata": {
        "colab": {
          "base_uri": "https://localhost:8080/",
          "height": 206
        },
        "id": "9TK9sRJ5rsJM",
        "outputId": "b6b856bd-fa00-4571-85ff-be52a7641cf4"
      },
      "execution_count": null,
      "outputs": [
        {
          "output_type": "execute_result",
          "data": {
            "text/plain": [
              "   Year  Purchase_Price  DepreciationRate(%)  Fine(%)  finalCost    dCost\n",
              "0     1         30000.0                   15     30.0      34500  -4500.0\n",
              "1     2         30000.0                   30     20.0      27000   3000.0\n",
              "2     3         30000.0                   45     10.0      19500  10500.0\n",
              "3     4         30000.0                   60      5.0      13500  16500.0\n",
              "4     5         30000.0                   75      NaN       9000  21000.0"
            ],
            "text/html": [
              "\n",
              "  <div id=\"df-80506035-2265-42d4-91d8-feef1d861c32\">\n",
              "    <div class=\"colab-df-container\">\n",
              "      <div>\n",
              "<style scoped>\n",
              "    .dataframe tbody tr th:only-of-type {\n",
              "        vertical-align: middle;\n",
              "    }\n",
              "\n",
              "    .dataframe tbody tr th {\n",
              "        vertical-align: top;\n",
              "    }\n",
              "\n",
              "    .dataframe thead th {\n",
              "        text-align: right;\n",
              "    }\n",
              "</style>\n",
              "<table border=\"1\" class=\"dataframe\">\n",
              "  <thead>\n",
              "    <tr style=\"text-align: right;\">\n",
              "      <th></th>\n",
              "      <th>Year</th>\n",
              "      <th>Purchase_Price</th>\n",
              "      <th>DepreciationRate(%)</th>\n",
              "      <th>Fine(%)</th>\n",
              "      <th>finalCost</th>\n",
              "      <th>dCost</th>\n",
              "    </tr>\n",
              "  </thead>\n",
              "  <tbody>\n",
              "    <tr>\n",
              "      <th>0</th>\n",
              "      <td>1</td>\n",
              "      <td>30000.0</td>\n",
              "      <td>15</td>\n",
              "      <td>30.0</td>\n",
              "      <td>34500</td>\n",
              "      <td>-4500.0</td>\n",
              "    </tr>\n",
              "    <tr>\n",
              "      <th>1</th>\n",
              "      <td>2</td>\n",
              "      <td>30000.0</td>\n",
              "      <td>30</td>\n",
              "      <td>20.0</td>\n",
              "      <td>27000</td>\n",
              "      <td>3000.0</td>\n",
              "    </tr>\n",
              "    <tr>\n",
              "      <th>2</th>\n",
              "      <td>3</td>\n",
              "      <td>30000.0</td>\n",
              "      <td>45</td>\n",
              "      <td>10.0</td>\n",
              "      <td>19500</td>\n",
              "      <td>10500.0</td>\n",
              "    </tr>\n",
              "    <tr>\n",
              "      <th>3</th>\n",
              "      <td>4</td>\n",
              "      <td>30000.0</td>\n",
              "      <td>60</td>\n",
              "      <td>5.0</td>\n",
              "      <td>13500</td>\n",
              "      <td>16500.0</td>\n",
              "    </tr>\n",
              "    <tr>\n",
              "      <th>4</th>\n",
              "      <td>5</td>\n",
              "      <td>30000.0</td>\n",
              "      <td>75</td>\n",
              "      <td>NaN</td>\n",
              "      <td>9000</td>\n",
              "      <td>21000.0</td>\n",
              "    </tr>\n",
              "  </tbody>\n",
              "</table>\n",
              "</div>\n",
              "      <button class=\"colab-df-convert\" onclick=\"convertToInteractive('df-80506035-2265-42d4-91d8-feef1d861c32')\"\n",
              "              title=\"Convert this dataframe to an interactive table.\"\n",
              "              style=\"display:none;\">\n",
              "        \n",
              "  <svg xmlns=\"http://www.w3.org/2000/svg\" height=\"24px\"viewBox=\"0 0 24 24\"\n",
              "       width=\"24px\">\n",
              "    <path d=\"M0 0h24v24H0V0z\" fill=\"none\"/>\n",
              "    <path d=\"M18.56 5.44l.94 2.06.94-2.06 2.06-.94-2.06-.94-.94-2.06-.94 2.06-2.06.94zm-11 1L8.5 8.5l.94-2.06 2.06-.94-2.06-.94L8.5 2.5l-.94 2.06-2.06.94zm10 10l.94 2.06.94-2.06 2.06-.94-2.06-.94-.94-2.06-.94 2.06-2.06.94z\"/><path d=\"M17.41 7.96l-1.37-1.37c-.4-.4-.92-.59-1.43-.59-.52 0-1.04.2-1.43.59L10.3 9.45l-7.72 7.72c-.78.78-.78 2.05 0 2.83L4 21.41c.39.39.9.59 1.41.59.51 0 1.02-.2 1.41-.59l7.78-7.78 2.81-2.81c.8-.78.8-2.07 0-2.86zM5.41 20L4 18.59l7.72-7.72 1.47 1.35L5.41 20z\"/>\n",
              "  </svg>\n",
              "      </button>\n",
              "      \n",
              "  <style>\n",
              "    .colab-df-container {\n",
              "      display:flex;\n",
              "      flex-wrap:wrap;\n",
              "      gap: 12px;\n",
              "    }\n",
              "\n",
              "    .colab-df-convert {\n",
              "      background-color: #E8F0FE;\n",
              "      border: none;\n",
              "      border-radius: 50%;\n",
              "      cursor: pointer;\n",
              "      display: none;\n",
              "      fill: #1967D2;\n",
              "      height: 32px;\n",
              "      padding: 0 0 0 0;\n",
              "      width: 32px;\n",
              "    }\n",
              "\n",
              "    .colab-df-convert:hover {\n",
              "      background-color: #E2EBFA;\n",
              "      box-shadow: 0px 1px 2px rgba(60, 64, 67, 0.3), 0px 1px 3px 1px rgba(60, 64, 67, 0.15);\n",
              "      fill: #174EA6;\n",
              "    }\n",
              "\n",
              "    [theme=dark] .colab-df-convert {\n",
              "      background-color: #3B4455;\n",
              "      fill: #D2E3FC;\n",
              "    }\n",
              "\n",
              "    [theme=dark] .colab-df-convert:hover {\n",
              "      background-color: #434B5C;\n",
              "      box-shadow: 0px 1px 3px 1px rgba(0, 0, 0, 0.15);\n",
              "      filter: drop-shadow(0px 1px 2px rgba(0, 0, 0, 0.3));\n",
              "      fill: #FFFFFF;\n",
              "    }\n",
              "  </style>\n",
              "\n",
              "      <script>\n",
              "        const buttonEl =\n",
              "          document.querySelector('#df-80506035-2265-42d4-91d8-feef1d861c32 button.colab-df-convert');\n",
              "        buttonEl.style.display =\n",
              "          google.colab.kernel.accessAllowed ? 'block' : 'none';\n",
              "\n",
              "        async function convertToInteractive(key) {\n",
              "          const element = document.querySelector('#df-80506035-2265-42d4-91d8-feef1d861c32');\n",
              "          const dataTable =\n",
              "            await google.colab.kernel.invokeFunction('convertToInteractive',\n",
              "                                                     [key], {});\n",
              "          if (!dataTable) return;\n",
              "\n",
              "          const docLinkHtml = 'Like what you see? Visit the ' +\n",
              "            '<a target=\"_blank\" href=https://colab.research.google.com/notebooks/data_table.ipynb>data table notebook</a>'\n",
              "            + ' to learn more about interactive tables.';\n",
              "          element.innerHTML = '';\n",
              "          dataTable['output_type'] = 'display_data';\n",
              "          await google.colab.output.renderOutput(dataTable, element);\n",
              "          const docLink = document.createElement('div');\n",
              "          docLink.innerHTML = docLinkHtml;\n",
              "          element.appendChild(docLink);\n",
              "        }\n",
              "      </script>\n",
              "    </div>\n",
              "  </div>\n",
              "  "
            ]
          },
          "metadata": {},
          "execution_count": 15
        }
      ]
    },
    {
      "cell_type": "code",
      "source": [
        "#df.isna()\n",
        "#find location of missing value\n",
        "result = df.isnull().to_numpy().nonzero()\n",
        "print(result)\n",
        "#fill missing value\n",
        "df.fillna(0)\n",
        "# propagate non-null values forward or backward\n",
        "df.fillna(method=\"ffill\")\n",
        "Replace all NaN elements in column ‘A’, ‘B’, ‘C’, and ‘D’, with 0, 1, 2, and 3 respectively.\n",
        "values = {\"A\": 0, \"B\": 1, \"C\": 2, \"D\": 3}\n",
        "df.fillna(value=values)"
      ],
      "metadata": {
        "colab": {
          "base_uri": "https://localhost:8080/"
        },
        "id": "DffgysKhuMO6",
        "outputId": "d2f9d49f-8f1c-483e-b0e1-5277dacb084a"
      },
      "execution_count": null,
      "outputs": [
        {
          "output_type": "stream",
          "name": "stdout",
          "text": [
            "(array([4]), array([3]))\n"
          ]
        }
      ]
    },
    {
      "cell_type": "markdown",
      "source": [
        "# Plot"
      ],
      "metadata": {
        "id": "SEkVQdN_wzSx"
      }
    },
    {
      "cell_type": "code",
      "source": [
        "plt.figure(figsize=(6,4))\n",
        "\n",
        "#plt.plot( df['finalCost']  ,color='red')\n",
        "\n",
        "df.plot(x='Fine(%)', y='finalCost', style='o')\n",
        "plt.show()\n",
        "\n"
      ],
      "metadata": {
        "colab": {
          "base_uri": "https://localhost:8080/",
          "height": 297
        },
        "id": "YhvWEiBOtd-N",
        "outputId": "8f156ccc-8ae7-41d2-8420-56d470b471c4"
      },
      "execution_count": null,
      "outputs": [
        {
          "output_type": "display_data",
          "data": {
            "text/plain": [
              "<Figure size 432x288 with 0 Axes>"
            ]
          },
          "metadata": {}
        },
        {
          "output_type": "display_data",
          "data": {
            "text/plain": [
              "<Figure size 432x288 with 1 Axes>"
            ],
            "image/png": "[encoded data removed]"
          },
          "metadata": {
            "needs_background": "light"
          }
        }
      ]
    },
    {
      "cell_type": "markdown",
      "source": [
        "# Create dataframe pragrammetically"
      ],
      "metadata": {
        "id": "w-ZGLue8wUxU"
      }
    },
    {
      "cell_type": "code",
      "source": [
        "#import pandas as pd\n",
        "df = pd.DataFrame({\n",
        "    'name':['Sirisha','Ajay','Bhavani','Shakuntala','Reshma'],\n",
        "     'subject':['DSP','DAA','DS','OS','OOPS'],\n",
        "     'marks':[50,60,80,75,70]\n",
        "})\n",
        "#print(df.head())\n",
        "#print(df.describe())\n",
        "#print(df.info())\n",
        "df1=df[['name','marks']] # few columns\n",
        "#print(df1)\n",
        "index=[1,3,4]\n",
        "df2=df.loc[index]  #few rows\n",
        "#print(df2)\n",
        "#fmarks= [2,4,6,9,8]  #df['marks']/100 # add a new column\n",
        "df['fmarks']=fmarks\n",
        "df['marks'][4]=30\n",
        "#print(df)\n"
      ],
      "metadata": {
        "id": "oepkKNKUwYg4"
      },
      "execution_count": null,
      "outputs": []
    },
    {
      "cell_type": "code",
      "source": [
        "import matplotlib.pyplot as plt\n",
        "plt.plot(df[['marks','fmarks']])\n",
        "plt.show()"
      ],
      "metadata": {
        "colab": {
          "base_uri": "https://localhost:8080/",
          "height": 265
        },
        "id": "pZ0Y5jlTgZtY",
        "outputId": "f328f0fa-b431-4745-da51-ecfd031c927b"
      },
      "execution_count": null,
      "outputs": [
        {
          "output_type": "display_data",
          "data": {
            "text/plain": [
              "<Figure size 432x288 with 1 Axes>"
            ],
            "image/png": "[encoded data removed]"
          },
          "metadata": {
            "needs_background": "light"
          }
        }
      ]
    },
    {
      "cell_type": "markdown",
      "source": [],
      "metadata": {
        "id": "x1p2gNKou78j"
      }
    }
  ]
}