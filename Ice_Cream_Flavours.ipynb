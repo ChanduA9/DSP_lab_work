{
  "nbformat": 4,
  "nbformat_minor": 0,
  "metadata": {
    "colab": {
      "provenance": []
    },
    "kernelspec": {
      "name": "python3",
      "display_name": "Python 3"
    },
    "language_info": {
      "name": "python"
    }
  },
  "cells": [
    {
      "cell_type": "code",
      "execution_count": 3,
      "metadata": {
        "id": "OTPyholbAr2j"
      },
      "outputs": [],
      "source": [
        "import pandas as pd\n",
        "import numpy as np"
      ]
    },
    {
      "cell_type": "code",
      "source": [
        "df=pd.read_csv('ice_cream_data.csv')"
      ],
      "metadata": {
        "id": "d4ITPZYQBKS9"
      },
      "execution_count": 4,
      "outputs": []
    },
    {
      "cell_type": "code",
      "source": [
        "print(df.head())"
      ],
      "metadata": {
        "colab": {
          "base_uri": "https://localhost:8080/"
        },
        "id": "fe3sISXKjOfv",
        "outputId": "e862041e-f76b-493f-a22e-08d44b40a89b"
      },
      "execution_count": 5,
      "outputs": [
        {
          "output_type": "stream",
          "name": "stdout",
          "text": [
            "      name  ice_cream1  ice_cream2         ice_cream3\n",
            "0     John     Vanilla   Chocolate         Strawberry\n",
            "1    Sarah        Mint  Strawberry  Cookies and Cream\n",
            "2  Michael   Chocolate     Vanilla         Rocky Road\n",
            "3    Emily  Strawberry        Mint       Butter Pecan\n",
            "4    David  Rocky Road        Mint            Vanilla\n"
          ]
        }
      ]
    },
    {
      "cell_type": "code",
      "source": [
        "ice_cream_flavors = df[['ice_cream1', 'ice_cream2', 'ice_cream3']].values.flatten()\n",
        "unique_flavors = set(ice_cream_flavors)\n",
        "print(\"Unique Ice Cream Flavors:\", unique_flavors)"
      ],
      "metadata": {
        "colab": {
          "base_uri": "https://localhost:8080/"
        },
        "id": "DU1tjH66jWqC",
        "outputId": "445ff9c0-721d-40c1-c011-3c9d8f5bb4b1"
      },
      "execution_count": 6,
      "outputs": [
        {
          "output_type": "stream",
          "name": "stdout",
          "text": [
            "Unique Ice Cream Flavors: {'Butter Pecan', 'Vanilla', 'Chocolate', 'Rocky Road', 'Strawberry', 'Mint', 'Cookies and Cream'}\n"
          ]
        }
      ]
    },
    {
      "cell_type": "code",
      "source": [
        "#count occurences each one\n",
        "flavor_counts = pd.Series(ice_cream_flavors).value_counts()\n",
        "print(\"Ice Cream Flavor Counts:\")\n",
        "print(flavor_counts)\n"
      ],
      "metadata": {
        "colab": {
          "base_uri": "https://localhost:8080/"
        },
        "id": "z-W2IROOjeIw",
        "outputId": "0d34b659-2ace-4709-cb39-f8834f1087b8"
      },
      "execution_count": 7,
      "outputs": [
        {
          "output_type": "stream",
          "name": "stdout",
          "text": [
            "Ice Cream Flavor Counts:\n",
            "Vanilla              36\n",
            "Mint                 33\n",
            "Chocolate            31\n",
            "Strawberry           31\n",
            "Cookies and Cream    26\n",
            "Rocky Road           17\n",
            "Butter Pecan         12\n",
            "dtype: int64\n"
          ]
        }
      ]
    },
    {
      "cell_type": "code",
      "source": [
        "df['ice_cream1'] = df['ice_cream1'].str.lower()\n",
        "df['ice_cream2'] = df['ice_cream2'].str.lower()\n",
        "df['ice_cream3'] = df['ice_cream3'].str.lower()\n"
      ],
      "metadata": {
        "id": "_iEttQ-wkJby"
      },
      "execution_count": 8,
      "outputs": []
    },
    {
      "cell_type": "code",
      "source": [
        "# Filter rows\n",
        "vanilla_lovers = df[df['ice_cream1'] == 'vanilla']\n",
        "print(\"Vanilla Lovers:\")\n",
        "print(vanilla_lovers)"
      ],
      "metadata": {
        "colab": {
          "base_uri": "https://localhost:8080/"
        },
        "id": "d6Bp7QggjjZl",
        "outputId": "f4e7a51b-2846-4c0d-819f-420bd6258847"
      },
      "execution_count": 9,
      "outputs": [
        {
          "output_type": "stream",
          "name": "stdout",
          "text": [
            "Vanilla Lovers:\n",
            "         name ice_cream1         ice_cream2  ice_cream3\n",
            "0        John    vanilla          chocolate  strawberry\n",
            "7      Olivia    vanilla  cookies and cream   chocolate\n",
            "10    William    vanilla          chocolate  strawberry\n",
            "17        Mia    vanilla  cookies and cream   chocolate\n",
            "20       Liam    vanilla          chocolate        mint\n",
            "26     Daniel    vanilla          chocolate  strawberry\n",
            "33   Scarlett    vanilla  cookies and cream   chocolate\n",
            "36    Jackson    vanilla          chocolate  strawberry\n",
            "43       Lily    vanilla  cookies and cream   chocolate\n",
            "46  Alexander    vanilla          chocolate        mint\n",
            "52     Joseph    vanilla          chocolate  strawberry\n",
            "59   Scarlett    vanilla  cookies and cream   chocolate\n"
          ]
        }
      ]
    },
    {
      "cell_type": "code",
      "source": [
        "# Added a new column calculating the total number of ice cream flavors for each person\n",
        "df['total_flavors'] = df[['ice_cream1', 'ice_cream2', 'ice_cream3']].nunique(axis=1)\n",
        "print(\"Updated Dataset with Total Flavors:\")\n",
        "print(df)\n"
      ],
      "metadata": {
        "colab": {
          "base_uri": "https://localhost:8080/"
        },
        "id": "zur2Nzsnkww7",
        "outputId": "4d71b71e-aeb2-4262-cfd5-d0305a244d66"
      },
      "execution_count": 10,
      "outputs": [
        {
          "output_type": "stream",
          "name": "stdout",
          "text": [
            "Updated Dataset with Total Flavors:\n",
            "        name         ice_cream1         ice_cream2         ice_cream3  \\\n",
            "0       John            vanilla          chocolate         strawberry   \n",
            "1      Sarah               mint         strawberry  cookies and cream   \n",
            "2    Michael          chocolate            vanilla         rocky road   \n",
            "3      Emily         strawberry               mint       butter pecan   \n",
            "4      David         rocky road               mint            vanilla   \n",
            "..       ...                ...                ...                ...   \n",
            "57    Sophia          chocolate         strawberry  cookies and cream   \n",
            "58     Lucas               mint       butter pecan            vanilla   \n",
            "59  Scarlett            vanilla  cookies and cream          chocolate   \n",
            "60     Mason         strawberry            vanilla               mint   \n",
            "61     Avery  cookies and cream         rocky road          chocolate   \n",
            "\n",
            "    total_flavors  \n",
            "0               3  \n",
            "1               3  \n",
            "2               3  \n",
            "3               3  \n",
            "4               3  \n",
            "..            ...  \n",
            "57              3  \n",
            "58              3  \n",
            "59              3  \n",
            "60              3  \n",
            "61              3  \n",
            "\n",
            "[62 rows x 5 columns]\n"
          ]
        }
      ]
    },
    {
      "cell_type": "code",
      "source": [
        "# Group the dataset by ice cream flavors and calculate the average number of total flavors for each flavor\n",
        "flavor_group = df.groupby('ice_cream1')['total_flavors'].mean()\n",
        "print(\"Average Total Flavors by Ice Cream Flavor:\")\n",
        "print(flavor_group)"
      ],
      "metadata": {
        "id": "1556oxpZkASQ",
        "colab": {
          "base_uri": "https://localhost:8080/"
        },
        "outputId": "2ce13341-0d77-4d62-d1c0-6704945dd451"
      },
      "execution_count": 11,
      "outputs": [
        {
          "output_type": "stream",
          "name": "stdout",
          "text": [
            "Average Total Flavors by Ice Cream Flavor:\n",
            "ice_cream1\n",
            "chocolate            3.0\n",
            "cookies and cream    3.0\n",
            "mint                 3.0\n",
            "rocky road           3.0\n",
            "strawberry           3.0\n",
            "vanilla              3.0\n",
            "Name: total_flavors, dtype: float64\n"
          ]
        }
      ]
    },
    {
      "cell_type": "code",
      "source": [
        "df['class'] = 'Class_A'"
      ],
      "metadata": {
        "id": "Xazdur5MnAEm"
      },
      "execution_count": 12,
      "outputs": []
    },
    {
      "cell_type": "code",
      "source": [
        "unique_flavors = df['ice_cream1'].unique()\n",
        "num_additional_classes = 2"
      ],
      "metadata": {
        "id": "pnxSFCz8nFuM"
      },
      "execution_count": 13,
      "outputs": []
    },
    {
      "cell_type": "code",
      "source": [
        "for i in range(num_additional_classes):\n",
        "    additional_class = f'Class_{i + 1}'\n",
        "    df_additional = df.copy()\n",
        "    np.random.shuffle(unique_flavors)\n",
        "    df_additional['class'] = additional_class\n",
        "    df = pd.concat([df, df_additional])\n"
      ],
      "metadata": {
        "id": "PfpV7_XjnGyO"
      },
      "execution_count": 14,
      "outputs": []
    },
    {
      "cell_type": "code",
      "source": [
        "df.reset_index(drop=True, inplace=True)"
      ],
      "metadata": {
        "id": "SHxpvaNnnKhW"
      },
      "execution_count": 15,
      "outputs": []
    },
    {
      "cell_type": "code",
      "source": [
        "print(df)\n"
      ],
      "metadata": {
        "colab": {
          "base_uri": "https://localhost:8080/"
        },
        "id": "oREgeeCMnT1j",
        "outputId": "1ecd5079-db13-4f3b-97b6-7be0b16d553e"
      },
      "execution_count": 16,
      "outputs": [
        {
          "output_type": "stream",
          "name": "stdout",
          "text": [
            "         name         ice_cream1         ice_cream2         ice_cream3  \\\n",
            "0        John            vanilla          chocolate         strawberry   \n",
            "1       Sarah               mint         strawberry  cookies and cream   \n",
            "2     Michael          chocolate            vanilla         rocky road   \n",
            "3       Emily         strawberry               mint       butter pecan   \n",
            "4       David         rocky road               mint            vanilla   \n",
            "..        ...                ...                ...                ...   \n",
            "243    Sophia          chocolate         strawberry  cookies and cream   \n",
            "244     Lucas               mint       butter pecan            vanilla   \n",
            "245  Scarlett            vanilla  cookies and cream          chocolate   \n",
            "246     Mason         strawberry            vanilla               mint   \n",
            "247     Avery  cookies and cream         rocky road          chocolate   \n",
            "\n",
            "     total_flavors    class  \n",
            "0                3  Class_A  \n",
            "1                3  Class_A  \n",
            "2                3  Class_A  \n",
            "3                3  Class_A  \n",
            "4                3  Class_A  \n",
            "..             ...      ...  \n",
            "243              3  Class_2  \n",
            "244              3  Class_2  \n",
            "245              3  Class_2  \n",
            "246              3  Class_2  \n",
            "247              3  Class_2  \n",
            "\n",
            "[248 rows x 6 columns]\n"
          ]
        }
      ]
    },
    {
      "cell_type": "markdown",
      "source": [
        "Training and Testing the model"
      ],
      "metadata": {
        "id": "pAGfMm4AlOy6"
      }
    },
    {
      "cell_type": "code",
      "source": [
        "from sklearn.model_selection import train_test_split\n",
        "from sklearn.linear_model import LogisticRegression\n",
        "from sklearn.metrics import accuracy_score"
      ],
      "metadata": {
        "id": "eLxHv1T0lcI1"
      },
      "execution_count": 17,
      "outputs": []
    },
    {
      "cell_type": "code",
      "source": [
        "df['likes_vanilla'] = df['ice_cream1'].apply(lambda x: 1 if x == 'vanilla' else 0)#finding the whether the persons like vanilla ice-cream or not"
      ],
      "metadata": {
        "id": "ChOhGbynlhZk"
      },
      "execution_count": 18,
      "outputs": []
    },
    {
      "cell_type": "code",
      "source": [
        "X = df[['likes_vanilla']]\n",
        "y = df['class']\n",
        "X_train, X_test, y_train, y_test = train_test_split(X, y, test_size=0.2, random_state=42)"
      ],
      "metadata": {
        "id": "vIiHni7zlu41"
      },
      "execution_count": 19,
      "outputs": []
    },
    {
      "cell_type": "code",
      "source": [
        "model = LogisticRegression()\n",
        "model.fit(X_train, y_train)"
      ],
      "metadata": {
        "colab": {
          "base_uri": "https://localhost:8080/",
          "height": 75
        },
        "id": "sJfzUwlrmB_S",
        "outputId": "4e9849de-5c07-4969-9843-891381e0deee"
      },
      "execution_count": 20,
      "outputs": [
        {
          "output_type": "execute_result",
          "data": {
            "text/plain": [
              "LogisticRegression()"
            ],
            "text/html": [
              "<style>#sk-container-id-1 {color: black;background-color: white;}#sk-container-id-1 pre{padding: 0;}#sk-container-id-1 div.sk-toggleable {background-color: white;}#sk-container-id-1 label.sk-toggleable__label {cursor: pointer;display: block;width: 100%;margin-bottom: 0;padding: 0.3em;box-sizing: border-box;text-align: center;}#sk-container-id-1 label.sk-toggleable__label-arrow:before {content: \"▸\";float: left;margin-right: 0.25em;color: #696969;}#sk-container-id-1 label.sk-toggleable__label-arrow:hover:before {color: black;}#sk-container-id-1 div.sk-estimator:hover label.sk-toggleable__label-arrow:before {color: black;}#sk-container-id-1 div.sk-toggleable__content {max-height: 0;max-width: 0;overflow: hidden;text-align: left;background-color: #f0f8ff;}#sk-container-id-1 div.sk-toggleable__content pre {margin: 0.2em;color: black;border-radius: 0.25em;background-color: #f0f8ff;}#sk-container-id-1 input.sk-toggleable__control:checked~div.sk-toggleable__content {max-height: 200px;max-width: 100%;overflow: auto;}#sk-container-id-1 input.sk-toggleable__control:checked~label.sk-toggleable__label-arrow:before {content: \"▾\";}#sk-container-id-1 div.sk-estimator input.sk-toggleable__control:checked~label.sk-toggleable__label {background-color: #d4ebff;}#sk-container-id-1 div.sk-label input.sk-toggleable__control:checked~label.sk-toggleable__label {background-color: #d4ebff;}#sk-container-id-1 input.sk-hidden--visually {border: 0;clip: rect(1px 1px 1px 1px);clip: rect(1px, 1px, 1px, 1px);height: 1px;margin: -1px;overflow: hidden;padding: 0;position: absolute;width: 1px;}#sk-container-id-1 div.sk-estimator {font-family: monospace;background-color: #f0f8ff;border: 1px dotted black;border-radius: 0.25em;box-sizing: border-box;margin-bottom: 0.5em;}#sk-container-id-1 div.sk-estimator:hover {background-color: #d4ebff;}#sk-container-id-1 div.sk-parallel-item::after {content: \"\";width: 100%;border-bottom: 1px solid gray;flex-grow: 1;}#sk-container-id-1 div.sk-label:hover label.sk-toggleable__label {background-color: #d4ebff;}#sk-container-id-1 div.sk-serial::before {content: \"\";position: absolute;border-left: 1px solid gray;box-sizing: border-box;top: 0;bottom: 0;left: 50%;z-index: 0;}#sk-container-id-1 div.sk-serial {display: flex;flex-direction: column;align-items: center;background-color: white;padding-right: 0.2em;padding-left: 0.2em;position: relative;}#sk-container-id-1 div.sk-item {position: relative;z-index: 1;}#sk-container-id-1 div.sk-parallel {display: flex;align-items: stretch;justify-content: center;background-color: white;position: relative;}#sk-container-id-1 div.sk-item::before, #sk-container-id-1 div.sk-parallel-item::before {content: \"\";position: absolute;border-left: 1px solid gray;box-sizing: border-box;top: 0;bottom: 0;left: 50%;z-index: -1;}#sk-container-id-1 div.sk-parallel-item {display: flex;flex-direction: column;z-index: 1;position: relative;background-color: white;}#sk-container-id-1 div.sk-parallel-item:first-child::after {align-self: flex-end;width: 50%;}#sk-container-id-1 div.sk-parallel-item:last-child::after {align-self: flex-start;width: 50%;}#sk-container-id-1 div.sk-parallel-item:only-child::after {width: 0;}#sk-container-id-1 div.sk-dashed-wrapped {border: 1px dashed gray;margin: 0 0.4em 0.5em 0.4em;box-sizing: border-box;padding-bottom: 0.4em;background-color: white;}#sk-container-id-1 div.sk-label label {font-family: monospace;font-weight: bold;display: inline-block;line-height: 1.2em;}#sk-container-id-1 div.sk-label-container {text-align: center;}#sk-container-id-1 div.sk-container {/* jupyter's `normalize.less` sets `[hidden] { display: none; }` but bootstrap.min.css set `[hidden] { display: none !important; }` so we also need the `!important` here to be able to override the default hidden behavior on the sphinx rendered scikit-learn.org. See: https://github.com/scikit-learn/scikit-learn/issues/21755 */display: inline-block !important;position: relative;}#sk-container-id-1 div.sk-text-repr-fallback {display: none;}</style><div id=\"sk-container-id-1\" class=\"sk-top-container\"><div class=\"sk-text-repr-fallback\"><pre>LogisticRegression()</pre><b>In a Jupyter environment, please rerun this cell to show the HTML representation or trust the notebook. <br />On GitHub, the HTML representation is unable to render, please try loading this page with nbviewer.org.</b></div><div class=\"sk-container\" hidden><div class=\"sk-item\"><div class=\"sk-estimator sk-toggleable\"><input class=\"sk-toggleable__control sk-hidden--visually\" id=\"sk-estimator-id-1\" type=\"checkbox\" checked><label for=\"sk-estimator-id-1\" class=\"sk-toggleable__label sk-toggleable__label-arrow\">LogisticRegression</label><div class=\"sk-toggleable__content\"><pre>LogisticRegression()</pre></div></div></div></div></div>"
            ]
          },
          "metadata": {},
          "execution_count": 20
        }
      ]
    },
    {
      "cell_type": "code",
      "source": [
        "y_pred = model.predict(X_test)\n"
      ],
      "metadata": {
        "id": "S0fYbQzclzZ6"
      },
      "execution_count": 21,
      "outputs": []
    },
    {
      "cell_type": "code",
      "source": [
        "accuracy = accuracy_score(y_test, y_pred)\n",
        "print(\"Model Accuracy:\", accuracy)"
      ],
      "metadata": {
        "colab": {
          "base_uri": "https://localhost:8080/"
        },
        "id": "CS6gMgzql291",
        "outputId": "fc60756a-df8a-4615-d350-ef8fa27fb048"
      },
      "execution_count": 22,
      "outputs": [
        {
          "output_type": "stream",
          "name": "stdout",
          "text": [
            "Model Accuracy: 0.48\n"
          ]
        }
      ]
    },
    {
      "cell_type": "markdown",
      "source": [
        "Data Analytics"
      ],
      "metadata": {
        "id": "NUoW3fv7o8yk"
      }
    },
    {
      "cell_type": "code",
      "source": [
        "import matplotlib.pyplot as plt"
      ],
      "metadata": {
        "id": "X7MmvkOco_AH"
      },
      "execution_count": 23,
      "outputs": []
    },
    {
      "cell_type": "code",
      "source": [
        "plt.figure(figsize=(8, 6))\n",
        "flavor_counts.plot(kind='bar')\n",
        "\n",
        "#labels\n",
        "plt.title(\"Ice Cream Flavor Counts\")\n",
        "plt.xlabel(\"Ice Cream Flavor\")\n",
        "plt.ylabel(\"Count\")\n",
        "\n",
        "#bar graphs\n",
        "plt.show()"
      ],
      "metadata": {
        "colab": {
          "base_uri": "https://localhost:8080/",
          "height": 685
        },
        "id": "2O5438T-pBSt",
        "outputId": "aa5c42a1-6506-4c19-f881-abb431015bd1"
      },
      "execution_count": 24,
      "outputs": [
        {
          "output_type": "display_data",
          "data": {
            "text/plain": [
              "<Figure size 800x600 with 1 Axes>"
            ],
            "image/png": "[encoded data removed]"
          },
          "metadata": {}
        }
      ]
    },
    {
      "cell_type": "code",
      "source": [
        "plt.figure(figsize=(8, 6))\n",
        "\n",
        "#pie chart\n",
        "plt.pie(flavor_counts, labels=flavor_counts.index, autopct='%1.1f%%')\n",
        "plt.title(\"Ice Cream Flavor Distribution\") # title\n",
        "plt.show()"
      ],
      "metadata": {
        "colab": {
          "base_uri": "https://localhost:8080/",
          "height": 521
        },
        "id": "CRacve3fpIiD",
        "outputId": "5914d46b-434c-4669-a862-f8c7ca49ed55"
      },
      "execution_count": 25,
      "outputs": [
        {
          "output_type": "display_data",
          "data": {
            "text/plain": [
              "<Figure size 800x600 with 1 Axes>"
            ],
            "image/png": "[encoded data removed]"
          },
          "metadata": {}
        }
      ]
    }
  ]
}