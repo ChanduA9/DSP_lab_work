{
  "cells": [
    {
      "cell_type": "code",
      "execution_count": null,
      "metadata": {
        "id": "qd4Zi7a8ORbu"
      },
      "outputs": [],
      "source": [
        "import pandas as pd\n",
        "import numpy as np\n",
        "import matplotlib.pyplot as plt\n",
        "from pprint import pprint\n"
      ]
    },
    {
      "cell_type": "code",
      "execution_count": null,
      "metadata": {
        "colab": {
          "base_uri": "https://localhost:8080/"
        },
        "id": "dLZrNki8OaGs",
        "outputId": "0ba5a279-4d19-4e46-9a38-2a6ee1c5a134"
      },
      "outputs": [
        {
          "name": "stdout",
          "output_type": "stream",
          "text": [
            "      names  marks grades\n",
            "0    vikram    100     EX\n",
            "1     Vicky     90      A\n",
            "2     Vivek     80      B\n",
            "3     Vinod     70      C\n",
            "4     Vikas     60      D\n",
            "5     Vinny     50      E\n",
            "6     Virat     40      F\n",
            "7  Victoria     30      F\n",
            "8     Vance     20      F\n",
            "9    Charan     30      F\n",
            "\n",
            "\n",
            "\n",
            "Enter your choice: 1\n",
            "Students summary of the dataset:             marks\n",
            "count   10.000000\n",
            "mean    57.000000\n",
            "std     27.507575\n",
            "min     20.000000\n",
            "25%     32.500000\n",
            "50%     55.000000\n",
            "75%     77.500000\n",
            "max    100.000000\n",
            "None\n"
          ]
        }
      ],
      "source": [
        "class students_data:\n",
        "\n",
        "  def __init__(self,student_data):\n",
        "    self.student_data=student_data\n",
        "\n",
        "  def student_details(self):\n",
        "    print(self.student_data)\n",
        "    print('\\n\\n')\n",
        "    try:\n",
        "      options=\"1.summary of the data\\n 2.Analysis \\n 3.Passed students\\n 4.Failed students\\n 5.Add new row  and column\\n 6.Delete new row and column\\n\"\n",
        "      choice=int(input(\"Enter your choice:\"))\n",
        "      #Summary of the  dataframe\n",
        "      if (choice==1):\n",
        "        print(\"Students summary of the dataset:\",self.student_data.describe())\n",
        "\n",
        "      #Bar graph between the marks and grades\n",
        "      elif(choice==2):\n",
        "        x=self.student_data['marks']\n",
        "        y=self.student_data['grades']\n",
        "        plt.bar(x,y)\n",
        "        plt.title(\"Bar Graph\")\n",
        "        plt.xlabel('marks')\n",
        "        plt.ylabel('grades')\n",
        "        plt.show()\n",
        "        print(\"\\n\\n\")\n",
        "\n",
        "      #Pass students\n",
        "      elif(choice==3):\n",
        "        passed_students=self.student_data[self.student_data['marks']>40]\n",
        "        print(\"passed students:\\n\\n\")\n",
        "        pprint(passed_students)\n",
        "        print(\"\\n\\n\")\n",
        "\n",
        "\n",
        "      #Failed  students\n",
        "      elif(choice==4):\n",
        "        failed_students=self.student_data[self.student_data['marks']<41]\n",
        "        print(\"Failed students:\\n\")\n",
        "        print(failed_students)\n",
        "\n",
        "      #new row\n",
        "      elif(choice==6):\n",
        "        new_row=pd.DataFrame({'names':['chandu'],'marks':[70],'grades':['B']})\n",
        "        self.student_data=self.student_data.append(new_row,ignore_index=True)\n",
        "        print(\"New row and column:\\n\\n\")\n",
        "        print(self.student_data)\n",
        "\n",
        "      #new column\n",
        "        self.student_data['gender']=['m','m','m','m','m','f','f','m','m','f','f']\n",
        "        print(self.student_data)\n",
        "\n",
        "      #delete new row\n",
        "      elif(choice==7):\n",
        "        row=str(input(\"Enter the row name:\"))\n",
        "        self.student_data=self.student_data.drop(row,axis=1)\n",
        "        print(\"delete row and column:\\n\\n\")\n",
        "        print(self.student_data)\n",
        "        #delete new column\n",
        "        self.student_data=self.student_data.drop(len(self.student_data))\n",
        "        print(self.student_data)\n",
        "    except Exception as e:\n",
        "      print(e)\n",
        "\n",
        "student_data={\n",
        "    'names':['vikram','Vicky','Vivek','Vinod','Vikas','Vinny','Virat','Victoria','Vance','Charan'],\n",
        "    'marks':[100,90,80,70,60,50,40,30,20,30],\n",
        "    'grades':['EX','A','B','C','D','E','F','F','F','F']\n",
        "}\n",
        "df=pd.DataFrame(student_data)\n",
        "response=students_data(df)\n",
        "print(response.student_details())"
      ]
    },
    {
      "cell_type": "code",
      "execution_count": null,
      "metadata": {
        "colab": {
          "base_uri": "https://localhost:8080/"
        },
        "id": "G9ZkhiFp2cND",
        "outputId": "27e7d5ef-7805-4c60-b06a-efd114286851"
      },
      "outputs": [
        {
          "name": "stdout",
          "output_type": "stream",
          "text": [
            "('chandu', 'N190893')\n",
            "chandu\n",
            "None\n",
            "True\n"
          ]
        }
      ],
      "source": [
        "class student:\n",
        "  module=\"nsetools\"\n",
        "  def __init__(self,id,name):\n",
        "    self.id=id\n",
        "    self.name=name\n",
        "  def display(self):\n",
        "    # print(self.id,\"\\n\")\n",
        "    return self.name,self.id\n",
        "    # print(self.name)\n",
        "response=student(\"N190893\",\"chandu\")\n",
        "print(response.display())\n",
        "\n",
        "print(getattr(response,\"name\"))\n",
        "print(setattr(response,\"name\",\"chandra\"))\n",
        "print(hasattr(response,\"name\"))\n",
        "# print(delattr(response,\"name\"))\n",
        "# print(response.__doc__)\n"
      ]
    },
    {
      "cell_type": "code",
      "execution_count": null,
      "metadata": {
        "colab": {
          "base_uri": "https://localhost:8080/"
        },
        "id": "jnAsubd074TZ",
        "outputId": "cae6f76d-d744-49bf-8346-3581c27028b6"
      },
      "outputs": [
        {
          "name": "stdout",
          "output_type": "stream",
          "text": [
            "None\n",
            "<method-wrapper '__str__' of student object at 0x7fcd9144e6d0>\n",
            "__main__\n"
          ]
        }
      ],
      "source": [
        "print(response.__doc__)\n",
        "print(response.__str__)\n",
        "print(response.__module__)"
      ]
    },
    {
      "cell_type": "code",
      "execution_count": null,
      "metadata": {
        "colab": {
          "background_save": true,
          "base_uri": "https://localhost:8080/",
          "height": 200
        },
        "id": "V7jAu6XX-QO3",
        "outputId": "ce02dc7a-02b4-49c6-f7c1-b0e2c980634f"
      },
      "outputs": [
        {
          "ename": "AttributeError",
          "evalue": "ignored",
          "output_type": "error",
          "traceback": [
            "\u001b[0;31m---------------------------------------------------------------------------\u001b[0m",
            "\u001b[0;31mAttributeError\u001b[0m                            Traceback (most recent call last)",
            "\u001b[0;32m<ipython-input-27-90d14dc6682f>\u001b[0m in \u001b[0;36m<module>\u001b[0;34m\u001b[0m\n\u001b[1;32m     26\u001b[0m \u001b[0;34m\u001b[0m\u001b[0m\n\u001b[1;32m     27\u001b[0m \u001b[0mrectangle_area_response\u001b[0m\u001b[0;34m=\u001b[0m\u001b[0mrectangle\u001b[0m\u001b[0;34m(\u001b[0m\u001b[0;36m2\u001b[0m\u001b[0;34m,\u001b[0m\u001b[0;36m3\u001b[0m\u001b[0;34m)\u001b[0m\u001b[0;34m\u001b[0m\u001b[0;34m\u001b[0m\u001b[0m\n\u001b[0;32m---> 28\u001b[0;31m \u001b[0mprint\u001b[0m\u001b[0;34m(\u001b[0m\u001b[0mrectangle_area_response\u001b[0m\u001b[0;34m.\u001b[0m\u001b[0mrectange_area\u001b[0m\u001b[0;34m(\u001b[0m\u001b[0;34m)\u001b[0m\u001b[0;34m)\u001b[0m\u001b[0;34m\u001b[0m\u001b[0;34m\u001b[0m\u001b[0m\n\u001b[0m",
            "\u001b[0;31mAttributeError\u001b[0m: 'rectangle' object has no attribute 'rectange_area'"
          ]
        }
      ],
      "source": [
        "class circle:\n",
        "\n",
        "  def __init__(self,radius):\n",
        "    self.radius=radius\n",
        "\n",
        "  def circle_area(self):\n",
        "    return (3.14*self.radius*self.radius)\n",
        "circle_area_response=circle(2)\n",
        "\n",
        "class square(circle):\n",
        "\n",
        "  def __init__(self,side):\n",
        "    self.side=side\n",
        "\n",
        "  def square_area(self):\n",
        "    return (self.side*self.side)\n",
        "square_area_response=square(3)\n",
        "\n",
        "class rectangle(square):\n",
        "  def __init__(self,length,breadth):\n",
        "    self.length=length\n",
        "    self.breadth=breadth\n",
        "\n",
        "  def rectangle_area(self):\n",
        "    return (self.length*self.breadth)\n",
        "\n",
        "rectangle_area_response=rectangle(2,3)\n",
        "print(rectangle_area_response.rectange_area())"
      ]
    }
  ],
  "metadata": {
    "colab": {
      "provenance": []
    },
    "kernelspec": {
      "display_name": "Python 3",
      "name": "python3"
    },
    "language_info": {
      "name": "python"
    }
  },
  "nbformat": 4,
  "nbformat_minor": 0
}